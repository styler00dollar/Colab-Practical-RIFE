{
  "nbformat": 4,
  "nbformat_minor": 0,
  "metadata": {
    "colab": {
      "name": "Colab-RIFE.ipynb",
      "private_outputs": true,
      "provenance": [],
      "collapsed_sections": [],
      "machine_shape": "hm"
    },
    "kernelspec": {
      "name": "python3",
      "display_name": "Python 3"
    },
    "accelerator": "GPU"
  },
  "cells": [
    {
      "cell_type": "markdown",
      "metadata": {
        "id": "2QI-rg6XU5Ng"
      },
      "source": [
        "# Colab-RIFE\n",
        "\n",
        "Original: [hzwer/Practical-RIFE](https://github.com/hzwer/Practical-RIFE)\n",
        "\n",
        "My fork: [styler00dollar/Colab-Practical-RIFE](https://github.com/styler00dollar/Colab-Practical-RIFE)\n",
        "\n",
        "Just fixing some stuff to make it actually work and less cells to run. Uses v3.8."
      ]
    },
    {
      "cell_type": "code",
      "metadata": {
        "id": "kabHcIcAVKxZ"
      },
      "source": [
        "!nvidia-smi"
      ],
      "execution_count": null,
      "outputs": []
    },
    {
      "cell_type": "code",
      "metadata": {
        "id": "FypCcZkNNt2p",
        "cellView": "form"
      },
      "source": [
        "#@title install\n",
        "%cd /content\n",
        "!git clone https://github.com/hzwer/Practical-RIFE\n",
        "%cd /content/Practical-RIFE/\n",
        "!gdown --id 1O5KfS3KzZCY3imeCr2LCsntLhutKuAqj\n",
        "!7z e /content/Practical-RIFE/RIFE_trained_model_v3.8.zip\n",
        "!mkdir /content/Practical-RIFE/train_log\n",
        "!mv *.py /content/Practical-RIFE/train_log/\n",
        "!mv *.pkl /content/Practical-RIFE/train_log/\n",
        "%cd /content/Practical-RIFE/\n",
        "!gdown --id 1i3xlKb7ax7Y70khcTcuePi6E7crO_dFc\n",
        "!pip3 install -r requirements.txt\n",
        "!mv /content/Practical-RIFE/train_log/inference_video.py /content/Practical-RIFE/inference_video.py "
      ],
      "execution_count": null,
      "outputs": []
    },
    {
      "cell_type": "markdown",
      "metadata": {
        "id": "rirngW5uRMdg"
      },
      "source": [
        "Please upload your video to content/Practical-RIFE/video.mp4, or use our demo video."
      ]
    },
    {
      "cell_type": "code",
      "metadata": {
        "id": "dnLn4aHHPzN3"
      },
      "source": [
        "%cd /content/Practical-RIFE/\n",
        "!python3 inference_video.py --exp=1 --video=\"/content/Nichijou-OP1.webm\""
      ],
      "execution_count": null,
      "outputs": []
    },
    {
      "cell_type": "markdown",
      "metadata": {
        "id": "77KK6lxHgJhf"
      },
      "source": [
        "Our demo.mp4 is 25FPS. You can adjust the parameters for your own perference.\n",
        "For example: \n",
        "--fps=60 --exp=1 --video=mydemo.avi --png"
      ]
    },
    {
      "cell_type": "code",
      "metadata": {
        "id": "0zIBbVE3UfUD",
        "cellView": "code"
      },
      "source": [
        "from IPython.display import display, Image\n",
        "import moviepy.editor as mpy\n",
        "display(mpy.ipython_display('demo_4X_100fps.mp4', height=256, max_duration=100.))"
      ],
      "execution_count": null,
      "outputs": []
    },
    {
      "cell_type": "code",
      "metadata": {
        "id": "tWkJCNgP3zXA"
      },
      "source": [
        "!python3 inference_img.py --img demo/I0_0.png demo/I0_1.png\n",
        "ffmpeg -r 10 -f image2 -i output/img%d.png -s 448x256 -vf \"split[s0][s1];[s0]palettegen=stats_mode=single[p];[s1][p]paletteuse=new=1\" output/slomo.gif\n",
        "# Image interpolation"
      ],
      "execution_count": null,
      "outputs": []
    }
  ]
}
